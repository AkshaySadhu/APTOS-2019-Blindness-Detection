{
 "cells": [
  {
   "cell_type": "code",
   "execution_count": 1,
   "metadata": {
    "_cell_guid": "b1076dfc-b9ad-4769-8c92-a6c4dae69d19",
    "_uuid": "8f2839f25d086af736a60e9eeb907d3b93b6e0e5",
    "collapsed": false
   },
   "outputs": [
    {
     "name": "stdout",
     "output_type": "stream",
     "text": [
      "['sample_submission.csv', 'train.csv', 'test.csv', 'train_images', 'test_images']\n"
     ]
    }
   ],
   "source": [
    "# This Python 3 environment comes with many helpful analytics libraries installed\n",
    "# It is defined by the kaggle/python docker image: https://github.com/kaggle/docker-python\n",
    "# For example, here's several helpful packages to load in \n",
    "\n",
    "import numpy as np # linear algebra\n",
    "import pandas as pd # data processing, CSV file I/O (e.g. pd.read_csv)\n",
    "\n",
    "# Input data files are available in the \"../input/\" directory.\n",
    "# For example, running this (by clicking run or pressing Shift+Enter) will list the files in the input directory\n",
    "\n",
    "import os\n",
    "print(os.listdir(\"../input\"))\n",
    "import os\n",
    "import gc\n",
    "\n",
    "# Any results you write to the current directory are saved as output."
   ]
  },
  {
   "cell_type": "code",
   "execution_count": 2,
   "metadata": {
    "_cell_guid": "79c7e3d0-c299-4dcb-8224-4455121ee9b0",
    "_uuid": "d629ff2d2480ee46fbb7e2d37f6b5fab8052498a",
    "collapsed": false
   },
   "outputs": [
    {
     "data": {
      "text/html": [
       "<div>\n",
       "<style scoped>\n",
       "    .dataframe tbody tr th:only-of-type {\n",
       "        vertical-align: middle;\n",
       "    }\n",
       "\n",
       "    .dataframe tbody tr th {\n",
       "        vertical-align: top;\n",
       "    }\n",
       "\n",
       "    .dataframe thead th {\n",
       "        text-align: right;\n",
       "    }\n",
       "</style>\n",
       "<table border=\"1\" class=\"dataframe\">\n",
       "  <thead>\n",
       "    <tr style=\"text-align: right;\">\n",
       "      <th></th>\n",
       "      <th>id_code</th>\n",
       "    </tr>\n",
       "  </thead>\n",
       "  <tbody>\n",
       "    <tr>\n",
       "      <th>1112</th>\n",
       "      <td>980b5ca190ce</td>\n",
       "    </tr>\n",
       "  </tbody>\n",
       "</table>\n",
       "</div>"
      ],
      "text/plain": [
       "           id_code\n",
       "1112  980b5ca190ce"
      ]
     },
     "execution_count": 2,
     "metadata": {},
     "output_type": "execute_result"
    }
   ],
   "source": [
    "train_data=pd.read_csv(\"../input/train.csv\")\n",
    "test_data=pd.read_csv(\"../input/test.csv\")\n",
    "test_data[test_data.id_code==\"980b5ca190ce\"]"
   ]
  },
  {
   "cell_type": "code",
   "execution_count": 3,
   "metadata": {
    "collapsed": true
   },
   "outputs": [],
   "source": [
    "from PIL import Image\n",
    "import torchvision.transforms as transforms\n",
    "image_dim=64\n",
    "transform_ori=transforms.Compose([transforms.Resize((image_dim,image_dim)),\n",
    "                                  transforms.RandomHorizontalFlip(),\n",
    "                                  transforms.ToTensor(),\n",
    "                                  transforms.Normalize(mean=[0.5,0.5,0.5],std=[0.225,0.225,0.225]),])\n",
    "train_data[\"image_data\"]=train_data.id_code.map(lambda x:transform_ori(Image.open(\"../input/train_images/\"+x+\".png\")))\n"
   ]
  },
  {
   "cell_type": "code",
   "execution_count": 4,
   "metadata": {
    "collapsed": true
   },
   "outputs": [],
   "source": [
    "test_data[\"image_data\"]=test_data.id_code.map(lambda x:transform_ori(Image.open(\"../input/test_images/\"+x+\".png\")))\n"
   ]
  },
  {
   "cell_type": "code",
   "execution_count": 5,
   "metadata": {
    "collapsed": false
   },
   "outputs": [
    {
     "name": "stdout",
     "output_type": "stream",
     "text": [
      "<class 'numpy.ndarray'>\n"
     ]
    }
   ],
   "source": [
    "#Note that transform can dirextly act on the open object\n",
    "import torch\n",
    "print(type(train_data.image_data[1:5].values))\n",
    "train_input_tensor=torch.stack(train_data.image_data.values.tolist())\n",
    "test_input_tensor=torch.stack(test_data.image_data.values.tolist())\n",
    "train_target=torch.tensor(train_data.diagnosis.values)\n",
    "# train_data.head()"
   ]
  },
  {
   "cell_type": "code",
   "execution_count": 6,
   "metadata": {
    "collapsed": true
   },
   "outputs": [],
   "source": [
    "# print(len(train_input_tensor[0:40]))\n"
   ]
  },
  {
   "cell_type": "code",
   "execution_count": 7,
   "metadata": {
    "collapsed": true
   },
   "outputs": [],
   "source": [
    "from torch import nn\n",
    "class ConvNN(nn.Module):\n",
    "\tdef __init__(self):\n",
    "\t\tsuper(ConvNN,self).__init__()\n",
    "\t\tself.cnn1=nn.Conv2d(in_channels=3,out_channels=8,kernel_size=5,stride=1,padding=2)\n",
    "\n",
    "\t\tself.batchnorm1=nn.BatchNorm2d(8)\n",
    "\t\tself.relu=nn.ReLU()\n",
    "\t\tself.maxpool1=nn.MaxPool2d(kernel_size=8)\n",
    "\n",
    "\t\tself.cnn2=nn.Conv2d(in_channels=8,out_channels=32,kernel_size=5,stride=1,padding=2)\n",
    "\t\tself.batchnorm2=nn.BatchNorm2d(32)\n",
    "\t\tself.maxpool2=nn.MaxPool2d(kernel_size=8)\n",
    "\n",
    "\t\tself.fc1=nn.Linear(in_features=int((image_dim/64)**2*32),out_features=int((image_dim/64)**2*16))\n",
    "\t\tself.dropout=nn.Dropout(p=0.5)\n",
    "\t\tself.fc2=nn.Linear(in_features=int((image_dim/64)**2*16),out_features=int((image_dim/64)**2*8))\n",
    "\t\tself.dropout=nn.Dropout(p=0.5)\n",
    "# \t\tself.fc3=nn.Linear(in_features=int((image_dim/64)**2*8),out_features=int((image_dim/64)**2*4))\n",
    "# \t\tself.dropout=nn.Dropout(p=0.5)\n",
    "# \t\tself.fc4=nn.Linear(in_features=int((image_dim/64)**2*4),out_features=int((image_dim/64)**2*1))\n",
    "# \t\tself.dropout=nn.Dropout(p=0.5)\n",
    "\t\tself.fc5=nn.Linear(in_features=int((image_dim/64)**2*8),out_features=5)\n",
    "\t\tself.softmaxl=nn.Softmax(5)\n",
    "\n",
    "\tdef forward(self,x):\n",
    "\t\tout=self.cnn1(x)\n",
    "\t\tout=self.batchnorm1(out)\n",
    "\t\tout=self.relu(out)\n",
    "\t\tout=self.maxpool1(out)\n",
    "# \t\tprint(out.shape)\n",
    "\t\tout=self.cnn2(out)\n",
    "\t\tout=self.batchnorm2(out)\n",
    "\t\tout=self.maxpool2(out)\n",
    "\t\tout=out.view(-1,int((image_dim/64)**2*32))\n",
    "\t\tout=self.fc1(out)\n",
    "\t\tout=self.relu(out)\n",
    "\t\tout=self.dropout(out)\n",
    "\t\tout=self.fc2(out)\n",
    "\t\tout=self.relu(out)\n",
    "\t\tout=self.dropout(out)\n",
    "# \t\tout=self.fc3(out)\n",
    "# \t\tout=self.relu(out)\n",
    "# \t\tout=self.dropout(out)\n",
    "# \t\tout=self.fc4(out)\n",
    "# \t\tout=self.relu(out)\n",
    "# \t\tout=self.dropout(out)\n",
    "\t\tout=self.fc5(out)\n",
    "\t\t# out=self.softmax(out)\n",
    "\t\treturn out"
   ]
  },
  {
   "cell_type": "code",
   "execution_count": 8,
   "metadata": {
    "collapsed": false
   },
   "outputs": [
    {
     "name": "stdout",
     "output_type": "stream",
     "text": [
      "yippy cuda available!\n"
     ]
    }
   ],
   "source": [
    "model = ConvNN()\n",
    "cuda_yes = torch.cuda.is_available()\n",
    "if cuda_yes:\n",
    "    print(\"yippy cuda available!\")\n",
    "    model = model.cuda()    \n",
    "loss_fn = nn.CrossEntropyLoss()        \n",
    "optimizer = torch.optim.SGD(model.parameters(), lr = 0.01)"
   ]
  },
  {
   "cell_type": "code",
   "execution_count": 9,
   "metadata": {
    "collapsed": false
   },
   "outputs": [
    {
     "name": "stdout",
     "output_type": "stream",
     "text": [
      "Epoch 1/10000, Training Loss: 1.647, Train Accuracy: 14.000\n",
      "Epoch 1001/10000, Training Loss: 0.671, Train Accuracy: 74.000\n",
      "Epoch 2001/10000, Training Loss: 0.642, Train Accuracy: 74.000\n",
      "Epoch 3001/10000, Training Loss: 0.565, Train Accuracy: 75.000\n",
      "Epoch 4001/10000, Training Loss: 0.502, Train Accuracy: 80.000\n",
      "Epoch 5001/10000, Training Loss: 0.455, Train Accuracy: 81.000\n",
      "Epoch 6001/10000, Training Loss: 0.439, Train Accuracy: 83.000\n",
      "Epoch 7001/10000, Training Loss: 0.352, Train Accuracy: 87.000\n",
      "Epoch 8001/10000, Training Loss: 0.366, Train Accuracy: 87.000\n",
      "Epoch 9001/10000, Training Loss: 0.576, Train Accuracy: 78.000\n"
     ]
    }
   ],
   "source": [
    "import time\n",
    "from torch.autograd import Variable\n",
    "num_epochs=10000\n",
    "batch_size=100\n",
    "#the function needs an iterable of tensors\n",
    "train_load=torch.utils.data.DataLoader(dataset=train_input_tensor,\n",
    "\t\t\t\t\t\t\t\t\t\tbatch_size=batch_size,\n",
    "\t\t\t\t\t\t\t\t\t\tshuffle=False)\n",
    "train_target_load=torch.utils.data.DataLoader(dataset=train_target,\n",
    "                                             batch_size=batch_size,\n",
    "                                             shuffle=False)\n",
    "# print(train_input_tensor.size())\n",
    "train_loss=[]\n",
    "test_loss=[]\n",
    "train_accuracy=[]\n",
    "test_accuracy=[]\n",
    "\n",
    "for epoch in range(num_epochs):\n",
    "    start=time.time()\n",
    "    correct=0\n",
    "    iterations=0\n",
    "    iter_loss=0\n",
    "\n",
    "    model.train()\n",
    "    i=0\n",
    "    for inputs,labels in zip(train_load,train_target_load):\n",
    "        inputs=Variable(inputs)\n",
    "        labels=Variable(labels)\n",
    "\n",
    "        if cuda_yes:\n",
    "            inputs=inputs.cuda()\n",
    "            labels=labels.cuda()\n",
    "#         print(inputs.shape,labels.shape)\n",
    "\n",
    "        optimizer.zero_grad()\n",
    "#             print('hello here')\n",
    "        outputs=model(inputs)\n",
    "        loss=loss_fn(outputs,labels)\n",
    "#             print(loss.item())\n",
    "        iter_loss+=loss.item()\n",
    "        loss.backward()\n",
    "        optimizer.step()\n",
    "#             print('hello there')\n",
    "\n",
    "        _,predicted=torch.max(outputs,1)\n",
    "        correct+=(predicted==labels).sum()\n",
    "\n",
    "        iterations+=1\n",
    "        i+=1\n",
    "\n",
    "    train_loss.append(iter_loss/iterations)\n",
    "    train_accuracy.append((100*correct/len(train_input_tensor)))\n",
    "\n",
    "    iter_loss=0.0\n",
    "    correct=0\n",
    "    iterations=0\n",
    "    if(epoch%1000==0):\n",
    "        print('Epoch {}/{}, Training Loss: {:.3f}, Train Accuracy: {:.3f}'.format(epoch+1,num_epochs,train_loss[-1],train_accuracy[-1]))"
   ]
  },
  {
   "cell_type": "code",
   "execution_count": 10,
   "metadata": {
    "collapsed": false
   },
   "outputs": [
    {
     "name": "stderr",
     "output_type": "stream",
     "text": [
      "/opt/conda/lib/python3.6/site-packages/ipykernel_launcher.py:4: FutureWarning: Method .as_matrix will be removed in a future version. Use .values instead.\n",
      "  after removing the cwd from sys.path.\n"
     ]
    }
   ],
   "source": [
    "test_input_tensor=Variable(test_input_tensor).cuda()\n",
    "results=model(test_input_tensor)\n",
    "numerical_results=np.argmax(results.cpu().detach().numpy(),axis=1)\n",
    "id_series=test_data.id_code.as_matrix()\n",
    "# print(type(id_series))\n",
    "id_array=id_series.reshape((len(id_series),1))\n",
    "numerical_results=numerical_results.reshape((len(numerical_results),1))\n",
    "ans=np.hstack((id_array,numerical_results))\n",
    "ans_df=pd.DataFrame(ans,columns=['id_code','diagnosis'])\n",
    "ans_df.to_csv('submission.csv',index=False)\n"
   ]
  },
  {
   "cell_type": "code",
   "execution_count": null,
   "metadata": {
    "collapsed": true
   },
   "outputs": [],
   "source": []
  }
 ],
 "metadata": {
  "kernelspec": {
   "display_name": "Python 3",
   "language": "python",
   "name": "python3"
  },
  "language_info": {
   "codemirror_mode": {
    "name": "ipython",
    "version": 3
   },
   "file_extension": ".py",
   "mimetype": "text/x-python",
   "name": "python",
   "nbconvert_exporter": "python",
   "pygments_lexer": "ipython3",
   "version": "3.6.7"
  }
 },
 "nbformat": 4,
 "nbformat_minor": 1
}
